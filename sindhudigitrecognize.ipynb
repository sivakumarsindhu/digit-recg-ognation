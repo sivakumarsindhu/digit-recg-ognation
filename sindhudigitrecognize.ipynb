{
  "nbformat": 4,
  "nbformat_minor": 0,
  "metadata": {
    "colab": {
      "provenance": [],
      "authorship_tag": "ABX9TyOFpwusLNLD9pGcwgrz2AFq",
      "include_colab_link": true
    },
    "kernelspec": {
      "name": "python3",
      "display_name": "Python 3"
    },
    "language_info": {
      "name": "python"
    }
  },
  "cells": [
    {
      "cell_type": "markdown",
      "metadata": {
        "id": "view-in-github",
        "colab_type": "text"
      },
      "source": [
        "<a href=\"https://colab.research.google.com/github/sivakumarsindhu/digit-recg-ognation/blob/main/sindhudigitrecognize.ipynb\" target=\"_parent\"><img src=\"https://colab.research.google.com/assets/colab-badge.svg\" alt=\"Open In Colab\"/></a>"
      ]
    },
    {
      "cell_type": "code",
      "execution_count": 1,
      "metadata": {
        "id": "zltdiesq7t18"
      },
      "outputs": [],
      "source": [
        "%matplotlib inline"
      ]
    },
    {
      "cell_type": "code",
      "source": [
        "from keras.models import Sequential\n",
        "from keras.layers import Dense, Conv2D, Flatten\n",
        "import matplotlib.pyplot as plt\n",
        "from keras.datasets import mnist\n",
        "from keras.utils import to_categorical"
      ],
      "metadata": {
        "id": "_g6hoQVW9_EX"
      },
      "execution_count": 2,
      "outputs": []
    },
    {
      "cell_type": "code",
      "source": [
        "#download mnist data and split into train and test sets\n",
        "(X_train, y_train), (X_test, y_test) = mnist.load_data()"
      ],
      "metadata": {
        "colab": {
          "base_uri": "https://localhost:8080/"
        },
        "id": "7bt5EQvj-Gq3",
        "outputId": "e563c1f0-d80c-4320-a7fa-906d9a5b3728"
      },
      "execution_count": 3,
      "outputs": [
        {
          "output_type": "stream",
          "name": "stdout",
          "text": [
            "Downloading data from https://storage.googleapis.com/tensorflow/tf-keras-datasets/mnist.npz\n",
            "11490434/11490434 [==============================] - 1s 0us/step\n"
          ]
        }
      ]
    },
    {
      "cell_type": "code",
      "source": [
        "#plot the first image in the dataset\n",
        "plt.imshow(X_train[3])"
      ],
      "metadata": {
        "colab": {
          "base_uri": "https://localhost:8080/",
          "height": 447
        },
        "id": "JdeltFxY-KgN",
        "outputId": "cc8543c1-5cdc-4e21-ef74-ad107728aeb9"
      },
      "execution_count": 4,
      "outputs": [
        {
          "output_type": "execute_result",
          "data": {
            "text/plain": [
              "<matplotlib.image.AxesImage at 0x7f36857e8b20>"
            ]
          },
          "metadata": {},
          "execution_count": 4
        },
        {
          "output_type": "display_data",
          "data": {
            "text/plain": [
              "<Figure size 640x480 with 1 Axes>"
            ],
            "image/png": "[encoded data removed]"
          },
          "metadata": {}
        }
      ]
    },
    {
      "cell_type": "code",
      "source": [
        "#check image shape\n",
        "X_train[0].shape\n"
      ],
      "metadata": {
        "colab": {
          "base_uri": "https://localhost:8080/"
        },
        "id": "IwJUq95J-XJX",
        "outputId": "10887df6-917c-4702-e371-7bf2cc461a9e"
      },
      "execution_count": 5,
      "outputs": [
        {
          "output_type": "execute_result",
          "data": {
            "text/plain": [
              "(28, 28)"
            ]
          },
          "metadata": {},
          "execution_count": 5
        }
      ]
    },
    {
      "cell_type": "code",
      "source": [
        "#reshape data to fit model\n",
        "X_train = X_train.reshape(60000,28,28,1)\n",
        "X_test = X_test.reshape(10000,28,28,1)"
      ],
      "metadata": {
        "id": "_o4tWFqZ-bQX"
      },
      "execution_count": 6,
      "outputs": []
    },
    {
      "cell_type": "code",
      "source": [
        "X_train[0].shape"
      ],
      "metadata": {
        "colab": {
          "base_uri": "https://localhost:8080/"
        },
        "id": "REckXg7c-dUS",
        "outputId": "8e0c8274-79f2-42ab-8728-7ea971fcf3b7"
      },
      "execution_count": 7,
      "outputs": [
        {
          "output_type": "execute_result",
          "data": {
            "text/plain": [
              "(28, 28, 1)"
            ]
          },
          "metadata": {},
          "execution_count": 7
        }
      ]
    },
    {
      "cell_type": "code",
      "source": [
        "y_train[3]"
      ],
      "metadata": {
        "colab": {
          "base_uri": "https://localhost:8080/"
        },
        "id": "7TS4F0K6-kff",
        "outputId": "fa1c5cfc-9eb4-4e0d-e856-62d25555f132"
      },
      "execution_count": 8,
      "outputs": [
        {
          "output_type": "execute_result",
          "data": {
            "text/plain": [
              "1"
            ]
          },
          "metadata": {},
          "execution_count": 8
        }
      ]
    },
    {
      "cell_type": "code",
      "source": [
        "#one-hot encode target column\n",
        "y_train = to_categorical(y_train)\n",
        "y_test = to_categorical(y_test)\n",
        "\n",
        "y_train[0]"
      ],
      "metadata": {
        "colab": {
          "base_uri": "https://localhost:8080/"
        },
        "id": "YLue9mtF-n9c",
        "outputId": "332801f9-16b8-4ab1-912e-97beac2acc55"
      },
      "execution_count": 9,
      "outputs": [
        {
          "output_type": "execute_result",
          "data": {
            "text/plain": [
              "array([0., 0., 0., 0., 0., 1., 0., 0., 0., 0.], dtype=float32)"
            ]
          },
          "metadata": {},
          "execution_count": 9
        }
      ]
    },
    {
      "cell_type": "code",
      "source": [
        "#create model\n",
        "model = Sequential()\n",
        "\n",
        "#add model layers\n",
        "model.add(Conv2D(64, kernel_size=3, activation='relu', input_shape=(28,28,1)))\n",
        "model.add(Conv2D(32, kernel_size=3, activation='relu'))\n",
        "model.add(Flatten())\n",
        "model.add(Dense(10, activation='softmax'))"
      ],
      "metadata": {
        "id": "BMXbvbsR-qcp"
      },
      "execution_count": 10,
      "outputs": []
    },
    {
      "cell_type": "code",
      "source": [
        "#compile model using accuracy as a measure of model performance\n",
        "model.compile(optimizer='adam', loss='categorical_crossentropy', metrics=['accuracy'])"
      ],
      "metadata": {
        "id": "lFPGHDXL-yFi"
      },
      "execution_count": 11,
      "outputs": []
    },
    {
      "cell_type": "code",
      "source": [
        "#train model\n",
        "model.fit(X_train, y_train,validation_data=(X_test, y_test), epochs=3)"
      ],
      "metadata": {
        "colab": {
          "base_uri": "https://localhost:8080/"
        },
        "id": "Aqk-nbZh-2HH",
        "outputId": "eea2a0d1-72f9-492b-ff1e-52b311bf8d6b"
      },
      "execution_count": 12,
      "outputs": [
        {
          "output_type": "stream",
          "name": "stdout",
          "text": [
            "Epoch 1/3\n",
            "1875/1875 [==============================] - 146s 77ms/step - loss: 0.3537 - accuracy: 0.9473 - val_loss: 0.0973 - val_accuracy: 0.9706\n",
            "Epoch 2/3\n",
            "1875/1875 [==============================] - 142s 76ms/step - loss: 0.0767 - accuracy: 0.9764 - val_loss: 0.0863 - val_accuracy: 0.9735\n",
            "Epoch 3/3\n",
            "1875/1875 [==============================] - 140s 75ms/step - loss: 0.0532 - accuracy: 0.9830 - val_loss: 0.0723 - val_accuracy: 0.9785\n"
          ]
        },
        {
          "output_type": "execute_result",
          "data": {
            "text/plain": [
              "<keras.callbacks.History at 0x7f367c7acd00>"
            ]
          },
          "metadata": {},
          "execution_count": 12
        }
      ]
    },
    {
      "cell_type": "code",
      "source": [
        "#show predictions for the first 3 images in the test set\n",
        "model.predict(X_test[:4])"
      ],
      "metadata": {
        "colab": {
          "base_uri": "https://localhost:8080/"
        },
        "id": "QUy6XDU5-4-z",
        "outputId": "b63523aa-2735-47a2-fbd6-ba7b8a0c109f"
      },
      "execution_count": 13,
      "outputs": [
        {
          "output_type": "stream",
          "name": "stdout",
          "text": [
            "1/1 [==============================] - 0s 244ms/step\n"
          ]
        },
        {
          "output_type": "execute_result",
          "data": {
            "text/plain": [
              "array([[1.0432837e-08, 1.1322651e-10, 8.6315248e-09, 6.6829429e-08,\n",
              "        1.4128299e-10, 6.6471438e-12, 2.7901213e-14, 9.9999964e-01,\n",
              "        4.5523752e-08, 2.4969538e-07],\n",
              "       [8.2860199e-09, 8.5908312e-08, 9.9999988e-01, 9.8000108e-10,\n",
              "        1.6724983e-11, 4.7277823e-13, 8.7037391e-09, 2.0363058e-12,\n",
              "        1.9902120e-09, 4.2475478e-16],\n",
              "       [1.6668612e-06, 9.9859053e-01, 1.7829756e-05, 1.4926508e-08,\n",
              "        7.1509858e-05, 9.9735921e-08, 8.8363537e-05, 1.7870943e-06,\n",
              "        1.2281835e-03, 1.0127784e-09],\n",
              "       [9.9996817e-01, 1.7821977e-11, 2.7999968e-05, 6.9706227e-11,\n",
              "        8.7817522e-09, 5.4271165e-09, 3.3472013e-06, 7.3098398e-09,\n",
              "        8.0293802e-08, 3.5662407e-07]], dtype=float32)"
            ]
          },
          "metadata": {},
          "execution_count": 13
        }
      ]
    },
    {
      "cell_type": "code",
      "source": [
        "#show actual results for the first 3 images in the test set\n",
        "y_test[:4]"
      ],
      "metadata": {
        "colab": {
          "base_uri": "https://localhost:8080/"
        },
        "id": "ilgNFHZWAnQ1",
        "outputId": "c1b55433-50fd-4d52-ce15-c4515415b2c6"
      },
      "execution_count": 14,
      "outputs": [
        {
          "output_type": "execute_result",
          "data": {
            "text/plain": [
              "array([[0., 0., 0., 0., 0., 0., 0., 1., 0., 0.],\n",
              "       [0., 0., 1., 0., 0., 0., 0., 0., 0., 0.],\n",
              "       [0., 1., 0., 0., 0., 0., 0., 0., 0., 0.],\n",
              "       [1., 0., 0., 0., 0., 0., 0., 0., 0., 0.]], dtype=float32)"
            ]
          },
          "metadata": {},
          "execution_count": 14
        }
      ]
    }
  ]
}